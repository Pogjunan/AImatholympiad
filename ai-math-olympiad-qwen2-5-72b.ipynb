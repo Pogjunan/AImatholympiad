{
 "cells": [
  {
   "cell_type": "markdown",
   "id": "bb791d70",
   "metadata": {
    "execution": {
     "iopub.execute_input": "2024-10-25T02:51:38.263408Z",
     "iopub.status.busy": "2024-10-25T02:51:38.262446Z",
     "iopub.status.idle": "2024-10-25T02:51:38.269929Z",
     "shell.execute_reply": "2024-10-25T02:51:38.268590Z",
     "shell.execute_reply.started": "2024-10-25T02:51:38.263362Z"
    },
    "papermill": {
     "duration": 0.004956,
     "end_time": "2024-10-27T05:59:18.631631",
     "exception": false,
     "start_time": "2024-10-27T05:59:18.626675",
     "status": "completed"
    },
    "tags": []
   },
   "source": [
    "# Simple attempt at using Qwen2.5-72B for AI Math Olympiad\n",
    "## (Progress Prize 2)\n",
    "\n",
    "### Competition provided explanations for prompts:\n",
    "### https://www.kaggle.com/datasets/richolson/ai-math-olympiad-pp2-reference-solutions\n",
    "\n",
    "### Credit for Qwen 2.5 Setup Code:\n",
    "### https://www.kaggle.com/code/abdullahmeda/load-72b-awq-model-using-vllm-on-l4-x4"
   ]
  },
  {
   "cell_type": "code",
   "execution_count": 1,
   "id": "67c0c666",
   "metadata": {
    "execution": {
     "iopub.execute_input": "2024-10-27T05:59:18.641017Z",
     "iopub.status.busy": "2024-10-27T05:59:18.640389Z",
     "iopub.status.idle": "2024-10-27T05:59:33.710351Z",
     "shell.execute_reply": "2024-10-27T05:59:33.709570Z"
    },
    "papermill": {
     "duration": 15.076705,
     "end_time": "2024-10-27T05:59:33.712437",
     "exception": false,
     "start_time": "2024-10-27T05:59:18.635732",
     "status": "completed"
    },
    "tags": []
   },
   "outputs": [],
   "source": [
    "import os\n",
    "import sys \n",
    "import warnings\n",
    "import gc\n",
    "import random\n",
    "import time\n",
    "\n",
    "import pandas as pd\n",
    "import polars as pl\n",
    "\n",
    "from tqdm import tqdm\n",
    "\n",
    "import torch \n",
    "import kaggle_evaluation.aimo_2_inference_server\n",
    "\n",
    "pd.set_option('display.max_colwidth', None)"
   ]
  },
  {
   "cell_type": "markdown",
   "id": "6e32779e",
   "metadata": {
    "papermill": {
     "duration": 0.003672,
     "end_time": "2024-10-27T05:59:33.720251",
     "exception": false,
     "start_time": "2024-10-27T05:59:33.716579",
     "status": "completed"
    },
    "tags": []
   },
   "source": [
    "# Load reference problems with solutions\n",
    "* https://www.kaggle.com/datasets/richolson/ai-math-olympiad-pp2-reference-solutions"
   ]
  },
  {
   "cell_type": "code",
   "execution_count": 2,
   "id": "28278d07",
   "metadata": {
    "execution": {
     "iopub.execute_input": "2024-10-27T05:59:33.729184Z",
     "iopub.status.busy": "2024-10-27T05:59:33.728517Z",
     "iopub.status.idle": "2024-10-27T05:59:33.796289Z",
     "shell.execute_reply": "2024-10-27T05:59:33.795636Z"
    },
    "papermill": {
     "duration": 0.075247,
     "end_time": "2024-10-27T05:59:33.799240",
     "exception": false,
     "start_time": "2024-10-27T05:59:33.723993",
     "status": "completed"
    },
    "tags": []
   },
   "outputs": [
    {
     "data": {
      "text/html": [
       "<div>\n",
       "<style scoped>\n",
       "    .dataframe tbody tr th:only-of-type {\n",
       "        vertical-align: middle;\n",
       "    }\n",
       "\n",
       "    .dataframe tbody tr th {\n",
       "        vertical-align: top;\n",
       "    }\n",
       "\n",
       "    .dataframe thead th {\n",
       "        text-align: right;\n",
       "    }\n",
       "</style>\n",
       "<table border=\"1\" class=\"dataframe\">\n",
       "  <thead>\n",
       "    <tr style=\"text-align: right;\">\n",
       "      <th></th>\n",
       "      <th>id</th>\n",
       "      <th>problem</th>\n",
       "      <th>answer</th>\n",
       "      <th>solution</th>\n",
       "    </tr>\n",
       "  </thead>\n",
       "  <tbody>\n",
       "    <tr>\n",
       "      <th>0</th>\n",
       "      <td>057f8a</td>\n",
       "      <td>Three airline companies operate flights from Dodola island. Each company has a different schedule of departures. The first company departs every 100 days, the second every 120 days and the third every 150 days. What is the greatest positive integer $d$ for which it is true that there will be $d$ consecutive days without a flight from Dodola island, regardless of the departure times of the various airlines?</td>\n",
       "      <td>79</td>\n",
       "      <td>The airlines are called A100, A120 and A150, labelled by the frequency of their departures. We first prove that there is a period of 99 days after an A100 departure during which no A150 plane takes off.\\n\\nConsider a period of 301 days which starts with an A150 departure on Day 0, followed by a departure on Day 150 and on Day 300. Let the first A100 departure in this period be on Day x.\\n\\nThere are two possibilities: (i) 0 ≤ x ≤ 50 or (ii) 51 ≤ x ≤ 99. In case (i), there is a quiet period of 99 days after the first A100 departure. In case (ii), the second A100 departure will be on Day 100 + x where 151 ≤ 100 + x ≤ 199 so there will be a period of 99 consecutive days after the second A100 departure with no A150 departure.\\n\\nWe will now prove that there are 79 consecutive days on which no departure of any airline happens, including the A120 planes. We restart time and define Day 0 to be when an A100 flight departs and there is no A150 flight before Day 100. This situation will repeat later because 300 = 3 × 100 = 2 × 150. The fourth A100 flight will take off on Day 300 and there will be no subsequent departure of an A150 plane before Day 400.\\n\\nSuppose the first departure of an A120 plane is on Day y. If y ≤ 20 or y ≥ 80, we have found the 79 consecutive days by looking after or before this A120 departure.\\n\\nIf 20 ≤ y ≤ 60, then there will be an A120 departure on day 240 + y where 260 ≤ 240 + y ≤ 300 so there will be no A120 departure strictly between Day 300 and Day 380 and so we will find the required 79 consecutive quiet days between those dates.\\n\\nFinally, if 61 ≤ y ≤ 80, there will be an A120 departure on Day y+240 where 301 ≤ y+240 ≤ 320 and there will be no subsequent departures before Day 400 and again we find the required 79 consecutive quiet days.\\n\\nWe now show that this bound can be attained. Suppose that an A100 departs on Day 0, an A120 departs on Day 80 and an A150 departs on Day 120. The departure days are then: 0, 80, 100, 120, 200&amp;200, 270, 300, 320, 400, 420, 440, 500, 560, 570 modulo 600 (i.e. it repeats every 600 days).\\n\\nThe longest run of consecutive days without flights is 79 days (and this is obtained three times in this 600 day cycle).</td>\n",
       "    </tr>\n",
       "    <tr>\n",
       "      <th>1</th>\n",
       "      <td>192e23</td>\n",
       "      <td>Fred and George take part in a tennis tournament with $4046$ other players. In each round, the players are paired into $2024$ matches. How many ways are there to arrange the first round such that Fred and George do not have to play each other? (Two arrangements for the first round are \\textit{different} if there is a player with a different opponent in the two arrangements.)</td>\n",
       "      <td>250</td>\n",
       "      <td>Consider an tournament with 2m players. The number of possible first round pairings can be calculated by labelling the matches 1 to m. Label the players in order 1 to 2m (this can be done in (2m)! ways), and assign players (2i - 1) and 2i to match number i.\\n\\nHow many times does any given particular first round pairing arise from the method specified above? Swapping the labels of any pair 2i - 1, 2i does not change the pairings, nor does permuting the order of the labels of the matches. Doing anything else will result in a different first round pairing, so (2m)! is overcounting the number of first round pairings by a factor of 2^m(m!).\\n\\nTherefore the number of first round pairings is (2m)!/(2^m m!).\\n\\nNow consider the odd and even factors in the product defining (2m)! separately. We see that (2m)! = [(2m) · 2(m - 1) · · · 2] × [(2m - 1) · (2m - 3) · · · 3 · 1].\\n\\nThe product of the odd numbers (2m - 1) · (2m - 3) · · · 3 · 1 is often written as (2m - 1)!!. Pulling factors of 2 out of the even factors we obtain (2m)! = 2^m · m! · (2m - 1)!!.\\n\\nTherefore the number of different first round pairings is (2m)!/(2^m · m!) = (2m - 1)!!.\\n\\nThe number of first round pairings of the 4048 = 2n + 2 players where Fred and George do not play each other is the total number of pairings minus the number of pairings in which they play each other. This is (2n + 1)!! - (2n - 1)!! = 2n(2n - 1)!! = 4046 · 4045!!. This number is clearly divisible by 125 because of the large number of factors of 5 in 4045!!. \\n\\nWe would like to know the remainder when 4046 · 4045!! is divided by 8, because then we could apply the Chinese Remainder Theorem and deduce the remainder on division by 1000. Note that 4045 × 4043 × 4041 ≡ 5 × 3 × 1 ≡ -1 mod 8. The sequence of odd positive integers has period 4 modulo 8, and 4039 ≡ 7 mod 8. Notice that 1 × 3 × 5 × 7 ≡ 1 mod 8. Running the sequence of odd numbers from 1 to 4039 cycles through a whole number of periods modulo 8 and so 4039!! ≡ 1 mod 8. Now 4046 · 4045!! ≡ 6 × (-1) × 1 ≡ 2 mod 8.\\n\\nBy the Chinese remainder theorem there is a unique integer x in the range 0 ≤ x ≤ 999 which satisfies our conditions modulo 8 and modulo 125, and by inspection that is 250 and so 4046 · 4045!! ≡ 250 mod 1000 and we report 250.</td>\n",
       "    </tr>\n",
       "    <tr>\n",
       "      <th>2</th>\n",
       "      <td>1acac0</td>\n",
       "      <td>Triangle $ABC$ has side length $AB = 120$ and circumradius $R = 100$. Let $D$ be the foot of the perpendicular from $C$ to the line $AB$. What is the greatest possible length of segment $CD$?</td>\n",
       "      <td>180</td>\n",
       "      <td>Let O be the circumcentre of triangle ABC. Then dist(O, AB) = sqrt(R^2 - (AB/2)^2) = sqrt(100^2 - 60^2) = 80 by Pythagoras.\\n\\nSince C must be on the circle with centre O and radius OA, the largest possible altitude h_c is attained when C is the mid-point of the larger arc AB of the circumcircle (i.e. on the perpendicular bisector of AB) in which case we have h_c = dist(O, AB) + R = 80 + 100 = 180.</td>\n",
       "    </tr>\n",
       "    <tr>\n",
       "      <th>3</th>\n",
       "      <td>1fce4b</td>\n",
       "      <td>Find the three-digit number $n$ such that writing any other three-digit number $10^{2024}$ times in a row and $10^{2024}+2$ times in a row results in two numbers divisible by $n$.</td>\n",
       "      <td>143</td>\n",
       "      <td>Let M = 10^1024. Let a be any three-digit number. Writing M copies of a in a row results in a number X where X = a × 100100100...1001001 and there are M copies of the digit one in the long number. If instead we wrote M + 2 copies of a in a row, the resulting number would be 10^6X + 1001a. We use the notation (u, v) to denote the greatest common divisor of two integers u and v which are not both 0.\\n\\nWe apply Euclid's algorithm so ((10^6X + 1001a), X) = (1001a, X).\\n\\nIt is therefore a necessary condition that our three-digit number n should divide (1001a, X) for all three-digit numbers a. By considering a = 100 and a = 101, we see that any candidate for n must divide 1001 × 101 - 1001 × 100 = 1001. Moreover, if n is a divisor of 1001, then n will divide X because 1001 divides 10010010010...01001001 which is 1001 × 10000010000010...01000001.\\n\\nThe second factor involves M/2 copies of the digit one. Such an n will also divide 10^6X + 1001a.\\n\\nThus it is a necessary and sufficient condition for n to satisfy the conditions of the problem that n be a three-digit divisor of 1001 (= 7 × 11 × 13). There is a unique such number: 143.</td>\n",
       "    </tr>\n",
       "    <tr>\n",
       "      <th>4</th>\n",
       "      <td>349493</td>\n",
       "      <td>We call a sequence $a_1, a_2, \\ldots$ of non-negative integers \\textit{delightful} if there exists a positive integer $N$ such that for all $n &gt; N$, $a_n = 0$, and for all $i \\geq 1$, $a_i$ counts the number of multiples of $i$ in $a_1, a_2, \\ldots, a_N$. How many delightful sequences of non-negative integers are there?</td>\n",
       "      <td>3</td>\n",
       "      <td>We claim the only such sequences are (1, 0, 0, ...), (2, 1, 0, 0, ...) and (2, 2, 0, 0, ...). Note that a_1 = N because 1 divides each of the first N terms. Hence if N = 1, we necessarily have the sequence (1, 0, ...), and that obeys the conditions.\\n\\nObserve that if 1 ≤ i ≤ N, then a_i is at most N because a_i counts the size of a subset of {1, 2, ..., N}. For each 1 ≤ i ≤ N, if (for contradiction) a_i = 0, then i divides a_i and so a_i ≠ 0, which is absurd.\\n\\nTherefore the first N terms of the sequence are non-zero (including a_N), and all subsequent terms are 0 because if i &gt; N, then i cannot divide any of the first N terms which are all non-zero and at most N. This means that a sequence satisfying the condition for some N will only satisfy the condition for that particular N.\\n\\nNext assume that N &gt; 1. The term a_{N-1} is positive and so there is an index j in the range 1 ≤ j ≤ N such that N - 1 divides a_j. However, for 1 ≤ i ≤ N each a_i is at most N, so N - 1 ≤ a_j ≤ N.\\n\\nIn the case that N = 2 this yields the second and third delightful sequences mentioned above, and proves that there are no others.\\n\\nIt remains to study the case N &gt; 2. In that case, N - 1 does not divide N so, taking j as above, we must have a_j = N - 1 (≠ 1). If (for contradiction) a_N ≥ 2 there is an index k with 1 &lt; k ≤ N such that a_k = N, so k divides all non-zero terms of the sequence, and in particular k divides both N - 1 and N and so must be 1, which is absurd. Finally suppose (for contradiction) that a_N = 1. In that case, j (recall that a_j = N - 1 &gt; 1 so 2 ≤ j ≤ N - 1) does not divide a_N but j does divide all previous terms of the sequence. Therefore j divides a_1 which is N and a_j which is N - 1 so j = 1. Therefore, a_1 is both N - 1 and N, which is absurd.\\n\\nThus, there are no delightful sequences with N &gt; 2. There are exactly the 3 delightful sequences mentioned above so we report the answer 3.</td>\n",
       "    </tr>\n",
       "    <tr>\n",
       "      <th>5</th>\n",
       "      <td>480182</td>\n",
       "      <td>Let $ABC$ be a triangle with $BC=108$, $CA=126$, and $AB=39$. Point $X$ lies on segment $AC$ such that $BX$ bisects $\\angle CBA$. Let $\\omega$ be the circumcircle of triangle $ABX$. Let $Y$ be a point on $\\omega$ different from $X$ such that $CX=CY$. Line $XY$ meets $BC$ at $E$. The length of the segment $BE$ can be written as $\\frac{m}{n}$, where $m$ and $n$ are coprime positive integers. Find $m+n$.</td>\n",
       "      <td>751</td>\n",
       "      <td>We have the key claim: ω is tangent to BC.\\n\\nProof of Claim: The angle bisector theorem gives CX/CA = CB/(CB+BA) which rearranges to CX = (AC × BC)/(AB + BC) = (126 × 108)/147 = (6 × 108)/7 = 648/7.\\n\\nNow calculate: CB^2 = 108^2 = 648/7 × 126 = CX × CA and we establish the required tangency by the converse of power of point (the tangent-secant theorem) applied to C and ω.\\n\\nHaving established this tangency, we now perform a short calculation.\\n\\nLet Γ denote the circle with centre C and radius CX which passes through Y. The point E is on the radical axis XY of ω and Γ. It follows that E has equal powers with respect to both circles ω and Γ.\\n\\nLet x = BE so EC = 108 - x. The power of E with respect to ω is x^2 (because of the tangency at B) and the power of E with respect to Γ is EC^2 - XC^2 because C is the centre of Γ and XC is its radius.\\n\\nWe have x^2 = (108 - x)^2 - (648^2)/(7^2).\\n\\nThe quadratic terms cancel so 216x = 108^2 - 648^2/49 = (49×108^2-648^2)/49 and this gives the solution x = 702/49.\\n\\nNow, 702 and 49 are coprime so m + n = 751 is the required answer.</td>\n",
       "    </tr>\n",
       "    <tr>\n",
       "      <th>6</th>\n",
       "      <td>71beb6</td>\n",
       "      <td>For a positive integer $n$, let $S(n)$ denote the sum of the digits of $n$ in base 10. Compute $S(S(1)+S(2)+\\cdots+S(N))$ with $N=10^{100}-2$.</td>\n",
       "      <td>891</td>\n",
       "      <td>For each integer k in the range 0 ≤ k ≤ 10^100 - 1 we have k + (10^100 - k - 1) = 10^100 - 1, which in decimal notation is a string of 100 nines. Deeming all numbers k in the range to be decimal strings of 100 digits (including initial padding zeros when necessary), we see that for each j in the range 1 ≤ j ≤ 100, the j-th digit of k and j-th digit of 10^100 - 1 - k add up to 9.\\n\\nTherefore for each integer k in the range 0 ≤ k ≤ 10^100 - 1 we have S(k) + S(10^100 - 1 - k) = 900.\\n\\nRecall that N = 10^100 - 2 and observe that S(0) = 0. Then 2(S(0) + S(1) + S(2) + ... + S(10^100 - 1)) = 900 × 10^100 so S(1) + S(2) + ... + S(N) = 450 × (10^100 - 1) - S(10^100 - 1) = 450 × 10^100 - 900.\\n\\nIn decimal notation, 450 × 10^100 is the string 45 followed by 101 zeros. Subtracting 900 gives the string 44 followed by 98 nines and then the digits 100.\\n\\nThe digit sum of this number is 4 + 4 + 98 × 9 + 1 = 99 × 9 = 891. We report 891.</td>\n",
       "    </tr>\n",
       "    <tr>\n",
       "      <th>7</th>\n",
       "      <td>88c219</td>\n",
       "      <td>For positive integers $x_1,\\ldots, x_n$ define $G(x_1, \\ldots, x_n)$ to be the sum of their $\\frac{n(n-1)}{2}$ pairwise greatest common divisors. We say that an integer $n \\geq 2$ is \\emph{artificial} if there exist $n$ different positive integers $a_1, ..., a_n$ such that \\n\\[a_1 + \\cdots + a_n = G(a_1, \\ldots, a_n) +1.\\]\\nFind the sum of all artificial integers $m$ in the range $2 \\leq m \\leq 40$.</td>\n",
       "      <td>810</td>\n",
       "      <td>We will show that the smallest artificial number is 5, and that if a is an artificial number, then so too is a + 1. This will solve the problem.\\n\\nFirst, we eliminate small cases. If n = 2 and the different positive integers are a, b with a &lt; b. Then, gcd(a, b) ≤ a so gcd(a, b) + 1 = G(a, b) + 1 ≤ a + 1 ≤ b &lt; a + b.\\n\\nNow suppose that n = 3 and the different positive integers are a &lt; b &lt; c. Using round brackets to denote gcds, we have (a, b) + (b, c) + (c, a) ≤ 2a + b ≤ a + b + c - 2 because a ≤ c - 2. Therefore G(a, b, c) + 1 &lt; a + b + c.\\n\\nNext we tackle the case n = 4, and let the positive integers be a &lt; b &lt; c &lt; d. Now:\\nG(a, b, c, d) + 1 = [(a, b) + (b, c) + (c, d)] + [(a, c) + (a, d)] + (b, d) + 1\\n                  = [(a, b-a) + (b, c-b) + (c, d-c)] + [(a, c) + (a, d)] + (b, d) + 1\\n                  ≤ (b-a + c-b + d-c) + 2a + b + 1\\n                  = a + b + d + 1\\n\\nNow c ≥ 3 so G(a, b, c, d) + 1 ≤ a + b + c + d + (1 - c) ≤ a + b + c + d - 2.\\n\\nHaving eliminated small cases, we show that 5 is artificial. Consider the numbers 1, 2, 3, 4 and 6. Now G(1, 2, 3, 4, 6) + 1 = 1 + 1 + 1 + 1 + 1 + 2 + 2 + 1 + 3 + 2 + 1 = 16 = (1 + 2 + 3 + 4 + 6).\\n\\nTherefore 5 is artificial.\\n\\nNow suppose that m is an artificial positive integer witnessed by different positive integers a_1, a_2, ... a_m. For 1 ≤ i ≤ m, let b_i = ma_i and let b_{m+1} = 1. We will show that these m + 1 different positive integers b_i are witnesses to m + 1 being artificial.\\n\\nIf i, j ≤ m, then gcd(b_i, b_j) = m·gcd(a_i, a_j) and (b_i, b_{m+1}) = 1 for 1 ≤ i ≤ m. Therefore:\\nG(b_1, b_2, ... b_{m+1}) = G(b_1, b_2, ..., b_m) + m\\n                         = m · G(a_1, a_2, ..., a_m) + m\\n                         = m(a_1 + a_2 + ... + a_m - 1) + m\\n                         = b_1 + b_2 + ... + b_m\\n                         = (b_1 + b_2 + ... + b_{m+1}) - 1\\n\\nTherefore m is artificial for all m ≥ 5 by induction. We must report 5 + 6 + ... + 40 = (45 × 36)/2 = 810.</td>\n",
       "    </tr>\n",
       "    <tr>\n",
       "      <th>8</th>\n",
       "      <td>a1d40b</td>\n",
       "      <td>The Fibonacci numbers are defined as follows: $F_0 = 0$, $F_1 = 1$, and $F_{n+1} = F_n + F_{n-1}$ for $n \\geq 1$. There are $N$ positive integers $n$ strictly less than $10^{101}$ such that $n^2 + (n+1)^2$ is a multiple of 5 but $F_{n-1}^2 + F_n^2$ is not. How many prime factors does $N$ have, counted with multiplicity?</td>\n",
       "      <td>201</td>\n",
       "      <td>Checking modulo 5, we find that n^2 + (n + 1)^2 ≡ 0 mod 5 if, and only if, n is 1 or 3 modulo 5. On the other hand, the Fibonacci numbers modulo 5 form a sequence of period 20 and their squares form a sequence of period 10. By inspection F_{n-1}^2 + F_n^2 ≡ 0 mod 5 if, and only if, n is 3 mod 5. \\n\\nTherefore we are being asked to find the number of positive integers m in the range 1 ≤ m ≤ 10^101 such that m is 1 modulo 5. This is one fifth of the numbers in the range since 10^101 is divisible by 5, so N = 10^101/5 = 2 × 10^100 = 2^101 · 5^100.\\n\\nWe therefore report 100 + 101 = 201.</td>\n",
       "    </tr>\n",
       "    <tr>\n",
       "      <th>9</th>\n",
       "      <td>bbd91e</td>\n",
       "      <td>Alice writes all positive integers from $1$ to $n$ on the board for some positive integer $n \\geq 11$. Bob then erases ten of them. The mean of the remaining numbers is $3000/37$. The sum of the numbers Bob erased is $S$. What is the remainder when $n \\times S$ is divided by $997$?</td>\n",
       "      <td>902</td>\n",
       "      <td>Let T be the sum of the numbers, after Bob has erased 10 of them. We can bound T by considering what happens if Bob happens to erase the smallest ten numbers, or the largest ten numbers.\\n\\nThe average of the set {1, 2, ..., n - 10} is (n-9)/2 (the average of the first and last terms of a finite arithmetic progression). Similarly, average of the set {11, 12, ..., n} is (n+11)/2. The average of the remaining numbers, 3000/37 = T/(n-10), must be bounded by these quantities, so:\\n\\n(n - 9)/2 ≤ T/(n - 10) = 3000/37 ≤ (n + 11)/2\\n\\nIt follows that n - 10 must be a multiple of 37 so that it can cancel down to 37. Another way to say that is n ≡ 10 mod 37. Multiplying the inequalities by 2 we obtain:\\n\\nn - 9 ≤ 6000/37 ≤ n + 11\\nor rather 6000/37 - 11 ≤ n ≤ 6000/37 + 9.\\n\\nNow 6000/37 = 162 + 6/37 so 152 ≤ n ≤ 171.\\n\\nThe only integer in this range which is 10 modulo 37 is 158, so n = 158 and T = (n - 10) × 3000/37 = 148 × 3000/37 = 4 × 3000 = 12000.\\n\\nLet the sum of the numbers erased by Bob be S, so S = (Σ_{i=1}^158 i) - 12000 = (158 × 159)/2 - 12000 = 12561 - 12000 = 561.\\n\\nBob can achieve this by erasing {51, 52, ..., 59, 66}.\\n\\nThe number that we must report is n × S modulo 997, which is 158 × 561 modulo 997, which is 902.</td>\n",
       "    </tr>\n",
       "  </tbody>\n",
       "</table>\n",
       "</div>"
      ],
      "text/plain": [
       "       id  \\\n",
       "0  057f8a   \n",
       "1  192e23   \n",
       "2  1acac0   \n",
       "3  1fce4b   \n",
       "4  349493   \n",
       "5  480182   \n",
       "6  71beb6   \n",
       "7  88c219   \n",
       "8  a1d40b   \n",
       "9  bbd91e   \n",
       "\n",
       "                                                                                                                                                                                                                                                                                                                                                                                                                     problem  \\\n",
       "0  Three airline companies operate flights from Dodola island. Each company has a different schedule of departures. The first company departs every 100 days, the second every 120 days and the third every 150 days. What is the greatest positive integer $d$ for which it is true that there will be $d$ consecutive days without a flight from Dodola island, regardless of the departure times of the various airlines?   \n",
       "1                                  Fred and George take part in a tennis tournament with $4046$ other players. In each round, the players are paired into $2024$ matches. How many ways are there to arrange the first round such that Fred and George do not have to play each other? (Two arrangements for the first round are \\textit{different} if there is a player with a different opponent in the two arrangements.)   \n",
       "2                                                                                                                                                                                                                            Triangle $ABC$ has side length $AB = 120$ and circumradius $R = 100$. Let $D$ be the foot of the perpendicular from $C$ to the line $AB$. What is the greatest possible length of segment $CD$?   \n",
       "3                                                                                                                                                                                                                                        Find the three-digit number $n$ such that writing any other three-digit number $10^{2024}$ times in a row and $10^{2024}+2$ times in a row results in two numbers divisible by $n$.   \n",
       "4                                                                                          We call a sequence $a_1, a_2, \\ldots$ of non-negative integers \\textit{delightful} if there exists a positive integer $N$ such that for all $n > N$, $a_n = 0$, and for all $i \\geq 1$, $a_i$ counts the number of multiples of $i$ in $a_1, a_2, \\ldots, a_N$. How many delightful sequences of non-negative integers are there?   \n",
       "5       Let $ABC$ be a triangle with $BC=108$, $CA=126$, and $AB=39$. Point $X$ lies on segment $AC$ such that $BX$ bisects $\\angle CBA$. Let $\\omega$ be the circumcircle of triangle $ABX$. Let $Y$ be a point on $\\omega$ different from $X$ such that $CX=CY$. Line $XY$ meets $BC$ at $E$. The length of the segment $BE$ can be written as $\\frac{m}{n}$, where $m$ and $n$ are coprime positive integers. Find $m+n$.   \n",
       "6                                                                                                                                                                                                                                                                             For a positive integer $n$, let $S(n)$ denote the sum of the digits of $n$ in base 10. Compute $S(S(1)+S(2)+\\cdots+S(N))$ with $N=10^{100}-2$.   \n",
       "7         For positive integers $x_1,\\ldots, x_n$ define $G(x_1, \\ldots, x_n)$ to be the sum of their $\\frac{n(n-1)}{2}$ pairwise greatest common divisors. We say that an integer $n \\geq 2$ is \\emph{artificial} if there exist $n$ different positive integers $a_1, ..., a_n$ such that \\n\\[a_1 + \\cdots + a_n = G(a_1, \\ldots, a_n) +1.\\]\\nFind the sum of all artificial integers $m$ in the range $2 \\leq m \\leq 40$.   \n",
       "8                                                                                          The Fibonacci numbers are defined as follows: $F_0 = 0$, $F_1 = 1$, and $F_{n+1} = F_n + F_{n-1}$ for $n \\geq 1$. There are $N$ positive integers $n$ strictly less than $10^{101}$ such that $n^2 + (n+1)^2$ is a multiple of 5 but $F_{n-1}^2 + F_n^2$ is not. How many prime factors does $N$ have, counted with multiplicity?   \n",
       "9                                                                                                                                 Alice writes all positive integers from $1$ to $n$ on the board for some positive integer $n \\geq 11$. Bob then erases ten of them. The mean of the remaining numbers is $3000/37$. The sum of the numbers Bob erased is $S$. What is the remainder when $n \\times S$ is divided by $997$?   \n",
       "\n",
       "   answer  \\\n",
       "0      79   \n",
       "1     250   \n",
       "2     180   \n",
       "3     143   \n",
       "4       3   \n",
       "5     751   \n",
       "6     891   \n",
       "7     810   \n",
       "8     201   \n",
       "9     902   \n",
       "\n",
       "                                                                                                                                                                                                                                                                                                                                                                                                                                                                                                                                                                                                                                                                                                                                                                                                                                                                                                                                                                                                                                                                                                                                                                                                                                                                                                                                                                                                                                                                                                                                                                                                                                                                                                                                                                                                                                                                                                                                                                                                                                                                                                                                                                                                                                                                                                                                                      solution  \n",
       "0                                                                  The airlines are called A100, A120 and A150, labelled by the frequency of their departures. We first prove that there is a period of 99 days after an A100 departure during which no A150 plane takes off.\\n\\nConsider a period of 301 days which starts with an A150 departure on Day 0, followed by a departure on Day 150 and on Day 300. Let the first A100 departure in this period be on Day x.\\n\\nThere are two possibilities: (i) 0 ≤ x ≤ 50 or (ii) 51 ≤ x ≤ 99. In case (i), there is a quiet period of 99 days after the first A100 departure. In case (ii), the second A100 departure will be on Day 100 + x where 151 ≤ 100 + x ≤ 199 so there will be a period of 99 consecutive days after the second A100 departure with no A150 departure.\\n\\nWe will now prove that there are 79 consecutive days on which no departure of any airline happens, including the A120 planes. We restart time and define Day 0 to be when an A100 flight departs and there is no A150 flight before Day 100. This situation will repeat later because 300 = 3 × 100 = 2 × 150. The fourth A100 flight will take off on Day 300 and there will be no subsequent departure of an A150 plane before Day 400.\\n\\nSuppose the first departure of an A120 plane is on Day y. If y ≤ 20 or y ≥ 80, we have found the 79 consecutive days by looking after or before this A120 departure.\\n\\nIf 20 ≤ y ≤ 60, then there will be an A120 departure on day 240 + y where 260 ≤ 240 + y ≤ 300 so there will be no A120 departure strictly between Day 300 and Day 380 and so we will find the required 79 consecutive quiet days between those dates.\\n\\nFinally, if 61 ≤ y ≤ 80, there will be an A120 departure on Day y+240 where 301 ≤ y+240 ≤ 320 and there will be no subsequent departures before Day 400 and again we find the required 79 consecutive quiet days.\\n\\nWe now show that this bound can be attained. Suppose that an A100 departs on Day 0, an A120 departs on Day 80 and an A150 departs on Day 120. The departure days are then: 0, 80, 100, 120, 200&200, 270, 300, 320, 400, 420, 440, 500, 560, 570 modulo 600 (i.e. it repeats every 600 days).\\n\\nThe longest run of consecutive days without flights is 79 days (and this is obtained three times in this 600 day cycle).  \n",
       "1  Consider an tournament with 2m players. The number of possible first round pairings can be calculated by labelling the matches 1 to m. Label the players in order 1 to 2m (this can be done in (2m)! ways), and assign players (2i - 1) and 2i to match number i.\\n\\nHow many times does any given particular first round pairing arise from the method specified above? Swapping the labels of any pair 2i - 1, 2i does not change the pairings, nor does permuting the order of the labels of the matches. Doing anything else will result in a different first round pairing, so (2m)! is overcounting the number of first round pairings by a factor of 2^m(m!).\\n\\nTherefore the number of first round pairings is (2m)!/(2^m m!).\\n\\nNow consider the odd and even factors in the product defining (2m)! separately. We see that (2m)! = [(2m) · 2(m - 1) · · · 2] × [(2m - 1) · (2m - 3) · · · 3 · 1].\\n\\nThe product of the odd numbers (2m - 1) · (2m - 3) · · · 3 · 1 is often written as (2m - 1)!!. Pulling factors of 2 out of the even factors we obtain (2m)! = 2^m · m! · (2m - 1)!!.\\n\\nTherefore the number of different first round pairings is (2m)!/(2^m · m!) = (2m - 1)!!.\\n\\nThe number of first round pairings of the 4048 = 2n + 2 players where Fred and George do not play each other is the total number of pairings minus the number of pairings in which they play each other. This is (2n + 1)!! - (2n - 1)!! = 2n(2n - 1)!! = 4046 · 4045!!. This number is clearly divisible by 125 because of the large number of factors of 5 in 4045!!. \\n\\nWe would like to know the remainder when 4046 · 4045!! is divided by 8, because then we could apply the Chinese Remainder Theorem and deduce the remainder on division by 1000. Note that 4045 × 4043 × 4041 ≡ 5 × 3 × 1 ≡ -1 mod 8. The sequence of odd positive integers has period 4 modulo 8, and 4039 ≡ 7 mod 8. Notice that 1 × 3 × 5 × 7 ≡ 1 mod 8. Running the sequence of odd numbers from 1 to 4039 cycles through a whole number of periods modulo 8 and so 4039!! ≡ 1 mod 8. Now 4046 · 4045!! ≡ 6 × (-1) × 1 ≡ 2 mod 8.\\n\\nBy the Chinese remainder theorem there is a unique integer x in the range 0 ≤ x ≤ 999 which satisfies our conditions modulo 8 and modulo 125, and by inspection that is 250 and so 4046 · 4045!! ≡ 250 mod 1000 and we report 250.  \n",
       "2                                                                                                                                                                                                                                                                                                                                                                                                                                                                                                                                                                                                                                                                                                                                                                                                                                                                                                                                                                                                                                                                                                                                                                                                                                                                                                                                                                                                                                                                                                                                                                                                                                                                                                                                                                                                                                                                                                                                            Let O be the circumcentre of triangle ABC. Then dist(O, AB) = sqrt(R^2 - (AB/2)^2) = sqrt(100^2 - 60^2) = 80 by Pythagoras.\\n\\nSince C must be on the circle with centre O and radius OA, the largest possible altitude h_c is attained when C is the mid-point of the larger arc AB of the circumcircle (i.e. on the perpendicular bisector of AB) in which case we have h_c = dist(O, AB) + R = 80 + 100 = 180.  \n",
       "3                                                                                                                                                                                                                                                                                                                                                                                                                                                                                                                                                                                                                                                                                                                                                                                                                                                                                                                                                                                                                                                                                                                                                                    Let M = 10^1024. Let a be any three-digit number. Writing M copies of a in a row results in a number X where X = a × 100100100...1001001 and there are M copies of the digit one in the long number. If instead we wrote M + 2 copies of a in a row, the resulting number would be 10^6X + 1001a. We use the notation (u, v) to denote the greatest common divisor of two integers u and v which are not both 0.\\n\\nWe apply Euclid's algorithm so ((10^6X + 1001a), X) = (1001a, X).\\n\\nIt is therefore a necessary condition that our three-digit number n should divide (1001a, X) for all three-digit numbers a. By considering a = 100 and a = 101, we see that any candidate for n must divide 1001 × 101 - 1001 × 100 = 1001. Moreover, if n is a divisor of 1001, then n will divide X because 1001 divides 10010010010...01001001 which is 1001 × 10000010000010...01000001.\\n\\nThe second factor involves M/2 copies of the digit one. Such an n will also divide 10^6X + 1001a.\\n\\nThus it is a necessary and sufficient condition for n to satisfy the conditions of the problem that n be a three-digit divisor of 1001 (= 7 × 11 × 13). There is a unique such number: 143.  \n",
       "4                                                                                                                                                                                                                                                                                                                                                         We claim the only such sequences are (1, 0, 0, ...), (2, 1, 0, 0, ...) and (2, 2, 0, 0, ...). Note that a_1 = N because 1 divides each of the first N terms. Hence if N = 1, we necessarily have the sequence (1, 0, ...), and that obeys the conditions.\\n\\nObserve that if 1 ≤ i ≤ N, then a_i is at most N because a_i counts the size of a subset of {1, 2, ..., N}. For each 1 ≤ i ≤ N, if (for contradiction) a_i = 0, then i divides a_i and so a_i ≠ 0, which is absurd.\\n\\nTherefore the first N terms of the sequence are non-zero (including a_N), and all subsequent terms are 0 because if i > N, then i cannot divide any of the first N terms which are all non-zero and at most N. This means that a sequence satisfying the condition for some N will only satisfy the condition for that particular N.\\n\\nNext assume that N > 1. The term a_{N-1} is positive and so there is an index j in the range 1 ≤ j ≤ N such that N - 1 divides a_j. However, for 1 ≤ i ≤ N each a_i is at most N, so N - 1 ≤ a_j ≤ N.\\n\\nIn the case that N = 2 this yields the second and third delightful sequences mentioned above, and proves that there are no others.\\n\\nIt remains to study the case N > 2. In that case, N - 1 does not divide N so, taking j as above, we must have a_j = N - 1 (≠ 1). If (for contradiction) a_N ≥ 2 there is an index k with 1 < k ≤ N such that a_k = N, so k divides all non-zero terms of the sequence, and in particular k divides both N - 1 and N and so must be 1, which is absurd. Finally suppose (for contradiction) that a_N = 1. In that case, j (recall that a_j = N - 1 > 1 so 2 ≤ j ≤ N - 1) does not divide a_N but j does divide all previous terms of the sequence. Therefore j divides a_1 which is N and a_j which is N - 1 so j = 1. Therefore, a_1 is both N - 1 and N, which is absurd.\\n\\nThus, there are no delightful sequences with N > 2. There are exactly the 3 delightful sequences mentioned above so we report the answer 3.  \n",
       "5                                                                                                                                                                                                                                                                                                                                                                                                                                                                                                                                                                                                                                                                                                                                                                                                                                                                                                                                                                                                                                                                                                                                                                                                                          We have the key claim: ω is tangent to BC.\\n\\nProof of Claim: The angle bisector theorem gives CX/CA = CB/(CB+BA) which rearranges to CX = (AC × BC)/(AB + BC) = (126 × 108)/147 = (6 × 108)/7 = 648/7.\\n\\nNow calculate: CB^2 = 108^2 = 648/7 × 126 = CX × CA and we establish the required tangency by the converse of power of point (the tangent-secant theorem) applied to C and ω.\\n\\nHaving established this tangency, we now perform a short calculation.\\n\\nLet Γ denote the circle with centre C and radius CX which passes through Y. The point E is on the radical axis XY of ω and Γ. It follows that E has equal powers with respect to both circles ω and Γ.\\n\\nLet x = BE so EC = 108 - x. The power of E with respect to ω is x^2 (because of the tangency at B) and the power of E with respect to Γ is EC^2 - XC^2 because C is the centre of Γ and XC is its radius.\\n\\nWe have x^2 = (108 - x)^2 - (648^2)/(7^2).\\n\\nThe quadratic terms cancel so 216x = 108^2 - 648^2/49 = (49×108^2-648^2)/49 and this gives the solution x = 702/49.\\n\\nNow, 702 and 49 are coprime so m + n = 751 is the required answer.  \n",
       "6                                                                                                                                                                                                                                                                                                                                                                                                                                                                                                                                                                                                                                                                                                                                                                                                                                                                                                                                                                                                                                                                                                                                                                                                                                                                                                                                                                                    For each integer k in the range 0 ≤ k ≤ 10^100 - 1 we have k + (10^100 - k - 1) = 10^100 - 1, which in decimal notation is a string of 100 nines. Deeming all numbers k in the range to be decimal strings of 100 digits (including initial padding zeros when necessary), we see that for each j in the range 1 ≤ j ≤ 100, the j-th digit of k and j-th digit of 10^100 - 1 - k add up to 9.\\n\\nTherefore for each integer k in the range 0 ≤ k ≤ 10^100 - 1 we have S(k) + S(10^100 - 1 - k) = 900.\\n\\nRecall that N = 10^100 - 2 and observe that S(0) = 0. Then 2(S(0) + S(1) + S(2) + ... + S(10^100 - 1)) = 900 × 10^100 so S(1) + S(2) + ... + S(N) = 450 × (10^100 - 1) - S(10^100 - 1) = 450 × 10^100 - 900.\\n\\nIn decimal notation, 450 × 10^100 is the string 45 followed by 101 zeros. Subtracting 900 gives the string 44 followed by 98 nines and then the digits 100.\\n\\nThe digit sum of this number is 4 + 4 + 98 × 9 + 1 = 99 × 9 = 891. We report 891.  \n",
       "7                                                                                                                                                                                                                                                                                                                We will show that the smallest artificial number is 5, and that if a is an artificial number, then so too is a + 1. This will solve the problem.\\n\\nFirst, we eliminate small cases. If n = 2 and the different positive integers are a, b with a < b. Then, gcd(a, b) ≤ a so gcd(a, b) + 1 = G(a, b) + 1 ≤ a + 1 ≤ b < a + b.\\n\\nNow suppose that n = 3 and the different positive integers are a < b < c. Using round brackets to denote gcds, we have (a, b) + (b, c) + (c, a) ≤ 2a + b ≤ a + b + c - 2 because a ≤ c - 2. Therefore G(a, b, c) + 1 < a + b + c.\\n\\nNext we tackle the case n = 4, and let the positive integers be a < b < c < d. Now:\\nG(a, b, c, d) + 1 = [(a, b) + (b, c) + (c, d)] + [(a, c) + (a, d)] + (b, d) + 1\\n                  = [(a, b-a) + (b, c-b) + (c, d-c)] + [(a, c) + (a, d)] + (b, d) + 1\\n                  ≤ (b-a + c-b + d-c) + 2a + b + 1\\n                  = a + b + d + 1\\n\\nNow c ≥ 3 so G(a, b, c, d) + 1 ≤ a + b + c + d + (1 - c) ≤ a + b + c + d - 2.\\n\\nHaving eliminated small cases, we show that 5 is artificial. Consider the numbers 1, 2, 3, 4 and 6. Now G(1, 2, 3, 4, 6) + 1 = 1 + 1 + 1 + 1 + 1 + 2 + 2 + 1 + 3 + 2 + 1 = 16 = (1 + 2 + 3 + 4 + 6).\\n\\nTherefore 5 is artificial.\\n\\nNow suppose that m is an artificial positive integer witnessed by different positive integers a_1, a_2, ... a_m. For 1 ≤ i ≤ m, let b_i = ma_i and let b_{m+1} = 1. We will show that these m + 1 different positive integers b_i are witnesses to m + 1 being artificial.\\n\\nIf i, j ≤ m, then gcd(b_i, b_j) = m·gcd(a_i, a_j) and (b_i, b_{m+1}) = 1 for 1 ≤ i ≤ m. Therefore:\\nG(b_1, b_2, ... b_{m+1}) = G(b_1, b_2, ..., b_m) + m\\n                         = m · G(a_1, a_2, ..., a_m) + m\\n                         = m(a_1 + a_2 + ... + a_m - 1) + m\\n                         = b_1 + b_2 + ... + b_m\\n                         = (b_1 + b_2 + ... + b_{m+1}) - 1\\n\\nTherefore m is artificial for all m ≥ 5 by induction. We must report 5 + 6 + ... + 40 = (45 × 36)/2 = 810.  \n",
       "8                                                                                                                                                                                                                                                                                                                                                                                                                                                                                                                                                                                                                                                                                                                                                                                                                                                                                                                                                                                                                                                                                                                                                                                                                                                                                                                                                                                                                                                                                                                                                                                                                                                                                                                                               Checking modulo 5, we find that n^2 + (n + 1)^2 ≡ 0 mod 5 if, and only if, n is 1 or 3 modulo 5. On the other hand, the Fibonacci numbers modulo 5 form a sequence of period 20 and their squares form a sequence of period 10. By inspection F_{n-1}^2 + F_n^2 ≡ 0 mod 5 if, and only if, n is 3 mod 5. \\n\\nTherefore we are being asked to find the number of positive integers m in the range 1 ≤ m ≤ 10^101 such that m is 1 modulo 5. This is one fifth of the numbers in the range since 10^101 is divisible by 5, so N = 10^101/5 = 2 × 10^100 = 2^101 · 5^100.\\n\\nWe therefore report 100 + 101 = 201.  \n",
       "9                                                                                                                                                                                                                                                                                                                                                                                                                                                                                                                                                                                                                                                                                                                                                                                                                                                                                                                                                                                                                                                                   Let T be the sum of the numbers, after Bob has erased 10 of them. We can bound T by considering what happens if Bob happens to erase the smallest ten numbers, or the largest ten numbers.\\n\\nThe average of the set {1, 2, ..., n - 10} is (n-9)/2 (the average of the first and last terms of a finite arithmetic progression). Similarly, average of the set {11, 12, ..., n} is (n+11)/2. The average of the remaining numbers, 3000/37 = T/(n-10), must be bounded by these quantities, so:\\n\\n(n - 9)/2 ≤ T/(n - 10) = 3000/37 ≤ (n + 11)/2\\n\\nIt follows that n - 10 must be a multiple of 37 so that it can cancel down to 37. Another way to say that is n ≡ 10 mod 37. Multiplying the inequalities by 2 we obtain:\\n\\nn - 9 ≤ 6000/37 ≤ n + 11\\nor rather 6000/37 - 11 ≤ n ≤ 6000/37 + 9.\\n\\nNow 6000/37 = 162 + 6/37 so 152 ≤ n ≤ 171.\\n\\nThe only integer in this range which is 10 modulo 37 is 158, so n = 158 and T = (n - 10) × 3000/37 = 148 × 3000/37 = 4 × 3000 = 12000.\\n\\nLet the sum of the numbers erased by Bob be S, so S = (Σ_{i=1}^158 i) - 12000 = (158 × 159)/2 - 12000 = 12561 - 12000 = 561.\\n\\nBob can achieve this by erasing {51, 52, ..., 59, 66}.\\n\\nThe number that we must report is n × S modulo 997, which is 158 × 561 modulo 997, which is 902.  "
      ]
     },
     "execution_count": 2,
     "metadata": {},
     "output_type": "execute_result"
    }
   ],
   "source": [
    "reference = pd.read_csv('/kaggle/input/ai-math-olympiad-pp2-reference-solutions/reference_with_solutions.csv')\n",
    "\n",
    "reference"
   ]
  },
  {
   "cell_type": "markdown",
   "id": "b36a7889",
   "metadata": {
    "papermill": {
     "duration": 0.004563,
     "end_time": "2024-10-27T05:59:33.808620",
     "exception": false,
     "start_time": "2024-10-27T05:59:33.804057",
     "status": "completed"
    },
    "tags": []
   },
   "source": [
    "# Split our test questions into examples / validate\n",
    "* Examples are used as part of our prompt\n",
    "* The remaining questions are tested against"
   ]
  },
  {
   "cell_type": "code",
   "execution_count": 3,
   "id": "9da9c095",
   "metadata": {
    "execution": {
     "iopub.execute_input": "2024-10-27T05:59:33.819143Z",
     "iopub.status.busy": "2024-10-27T05:59:33.818637Z",
     "iopub.status.idle": "2024-10-27T05:59:33.855855Z",
     "shell.execute_reply": "2024-10-27T05:59:33.855188Z"
    },
    "papermill": {
     "duration": 0.044175,
     "end_time": "2024-10-27T05:59:33.857458",
     "exception": false,
     "start_time": "2024-10-27T05:59:33.813283",
     "status": "completed"
    },
    "tags": []
   },
   "outputs": [],
   "source": [
    "#questions we will use for examples\n",
    "example_questions = [0, 5]\n",
    "\n",
    "examples_df = reference.iloc[example_questions]  # Using a list of indices\n",
    "\n",
    "# Get all other rows for validate\n",
    "validate_df = reference.drop(example_questions)\n",
    "validate_df = validate_df.drop(columns=['solution'])\n",
    "\n",
    "\n",
    "# Save to csv files\n",
    "examples_df.to_csv('examples.csv', index=False)\n",
    "validate_df.to_csv('validate.csv', index=False)"
   ]
  },
  {
   "cell_type": "markdown",
   "id": "c02d7c58",
   "metadata": {
    "papermill": {
     "duration": 0.004439,
     "end_time": "2024-10-27T05:59:33.866667",
     "exception": false,
     "start_time": "2024-10-27T05:59:33.862228",
     "status": "completed"
    },
    "tags": []
   },
   "source": [
    "# Pick an LLM\n",
    "* Determines which LLM setup cell gets run\n",
    "* Placeholder if we want to add other LLMs"
   ]
  },
  {
   "cell_type": "code",
   "execution_count": 4,
   "id": "4f6d55b1",
   "metadata": {
    "execution": {
     "iopub.execute_input": "2024-10-27T05:59:33.877276Z",
     "iopub.status.busy": "2024-10-27T05:59:33.876652Z",
     "iopub.status.idle": "2024-10-27T05:59:33.880261Z",
     "shell.execute_reply": "2024-10-27T05:59:33.879605Z"
    },
    "papermill": {
     "duration": 0.010502,
     "end_time": "2024-10-27T05:59:33.881827",
     "exception": false,
     "start_time": "2024-10-27T05:59:33.871325",
     "status": "completed"
    },
    "tags": []
   },
   "outputs": [],
   "source": [
    "class llm_choice:\n",
    "    qwen_25_72b = 1\n",
    "    \n",
    "llm_to_use = llm_choice.qwen_25_72b\n",
    "\n",
    "#make sure we allow for several hundred words of response...\n",
    "max_tokens = 1800"
   ]
  },
  {
   "cell_type": "markdown",
   "id": "5786c3d2",
   "metadata": {
    "papermill": {
     "duration": 0.004431,
     "end_time": "2024-10-27T05:59:33.890952",
     "exception": false,
     "start_time": "2024-10-27T05:59:33.886521",
     "status": "completed"
    },
    "tags": []
   },
   "source": [
    "# Qwen2.5-72B-Instruct Setup\n",
    "### https://www.kaggle.com/code/abdullahmeda/load-72b-awq-model-using-vllm-on-l4-x4\n"
   ]
  },
  {
   "cell_type": "code",
   "execution_count": 5,
   "id": "598be112",
   "metadata": {
    "execution": {
     "iopub.execute_input": "2024-10-27T05:59:33.901444Z",
     "iopub.status.busy": "2024-10-27T05:59:33.900904Z",
     "iopub.status.idle": "2024-10-27T06:05:06.347814Z",
     "shell.execute_reply": "2024-10-27T06:05:06.346866Z"
    },
    "papermill": {
     "duration": 332.45424,
     "end_time": "2024-10-27T06:05:06.349840",
     "exception": false,
     "start_time": "2024-10-27T05:59:33.895600",
     "status": "completed"
    },
    "tags": []
   },
   "outputs": [
    {
     "name": "stderr",
     "output_type": "stream",
     "text": [
      "2024-10-27 06:00:05,644\tINFO util.py:124 -- Outdated packages:\n",
      "  ipywidgets==7.7.1 found, needs ipywidgets>=8\n",
      "Run `pip install -U ipywidgets`, then restart the notebook server for rich notebook output.\n"
     ]
    },
    {
     "name": "stdout",
     "output_type": "stream",
     "text": [
      "INFO 10-27 06:00:09 awq_marlin.py:89] The model is convertible to awq_marlin during runtime. Using awq_marlin kernel.\n",
      "INFO 10-27 06:00:09 config.py:904] Defaulting to use mp for distributed inference\n",
      "INFO 10-27 06:00:09 llm_engine.py:223] Initializing an LLM engine (v0.6.1.post2) with config: model='/kaggle/input/qwen2.5/transformers/72b-instruct-awq/1', speculative_config=None, tokenizer='/kaggle/input/qwen2.5/transformers/72b-instruct-awq/1', skip_tokenizer_init=False, tokenizer_mode=auto, revision=None, override_neuron_config=None, rope_scaling=None, rope_theta=None, tokenizer_revision=None, trust_remote_code=True, dtype=torch.float16, max_seq_len=4096, download_dir=None, load_format=LoadFormat.AUTO, tensor_parallel_size=4, pipeline_parallel_size=1, disable_custom_all_reduce=False, quantization=awq_marlin, enforce_eager=False, kv_cache_dtype=auto, quantization_param_path=None, device_config=cuda, decoding_config=DecodingConfig(guided_decoding_backend='outlines'), observability_config=ObservabilityConfig(otlp_traces_endpoint=None, collect_model_forward_time=False, collect_model_execute_time=False), seed=0, served_model_name=/kaggle/input/qwen2.5/transformers/72b-instruct-awq/1, use_v2_block_manager=False, num_scheduler_steps=1, enable_prefix_caching=False, use_async_output_proc=True)\n",
      "WARNING 10-27 06:00:10 multiproc_gpu_executor.py:56] Reducing Torch parallelism from 24 threads to 1 to avoid unnecessary CPU contention. Set OMP_NUM_THREADS in the external environment to tune this value as needed.\n",
      "INFO 10-27 06:00:10 custom_cache_manager.py:17] Setting Triton cache manager to: vllm.triton_utils.custom_cache_manager:CustomCacheManager\n",
      "\u001b[1;36m(VllmWorkerProcess pid=243)\u001b[0;0m \u001b[1;36m(VllmWorkerProcess pid=244)\u001b[0;0m \u001b[1;36m(VllmWorkerProcess pid=245)\u001b[0;0m INFO 10-27 06:00:12 multiproc_worker_utils.py:215] Worker ready; awaiting tasks\n",
      "INFO 10-27 06:00:12 multiproc_worker_utils.py:215] Worker ready; awaiting tasks\n",
      "INFO 10-27 06:00:12 multiproc_worker_utils.py:215] Worker ready; awaiting tasks\n",
      "INFO 10-27 06:00:13 utils.py:981] Found nccl from library libnccl.so.2\n",
      "\u001b[1;36m(VllmWorkerProcess pid=245)\u001b[0;0m \u001b[1;36m(VllmWorkerProcess pid=243)\u001b[0;0m INFO 10-27 06:00:13 pynccl.py:63] vLLM is using nccl==2.20.5\n",
      "\u001b[1;36m(VllmWorkerProcess pid=244)\u001b[0;0m INFO 10-27 06:00:13 utils.py:981] Found nccl from library libnccl.so.2\n",
      "INFO 10-27 06:00:13 utils.py:981] Found nccl from library libnccl.so.2\n",
      "INFO 10-27 06:00:13 utils.py:981] Found nccl from library libnccl.so.2\n",
      "\u001b[1;36m(VllmWorkerProcess pid=243)\u001b[0;0m \u001b[1;36m(VllmWorkerProcess pid=245)\u001b[0;0m \u001b[1;36m(VllmWorkerProcess pid=244)\u001b[0;0m INFO 10-27 06:00:13 pynccl.py:63] vLLM is using nccl==2.20.5\n",
      "INFO 10-27 06:00:13 pynccl.py:63] vLLM is using nccl==2.20.5\n",
      "INFO 10-27 06:00:13 pynccl.py:63] vLLM is using nccl==2.20.5\n",
      "WARNING 10-27 06:00:13 custom_all_reduce.py:122] Custom allreduce is disabled because it's not supported on more than two PCIe-only GPUs. To silence this warning, specify disable_custom_all_reduce=True explicitly.\n",
      "\u001b[1;36m(VllmWorkerProcess pid=245)\u001b[0;0m \u001b[1;36m(VllmWorkerProcess pid=243)\u001b[0;0m \u001b[1;36m(VllmWorkerProcess pid=244)\u001b[0;0m WARNING 10-27 06:00:13 custom_all_reduce.py:122] Custom allreduce is disabled because it's not supported on more than two PCIe-only GPUs. To silence this warning, specify disable_custom_all_reduce=True explicitly.\n",
      "WARNING 10-27 06:00:13 custom_all_reduce.py:122] Custom allreduce is disabled because it's not supported on more than two PCIe-only GPUs. To silence this warning, specify disable_custom_all_reduce=True explicitly.\n",
      "WARNING 10-27 06:00:13 custom_all_reduce.py:122] Custom allreduce is disabled because it's not supported on more than two PCIe-only GPUs. To silence this warning, specify disable_custom_all_reduce=True explicitly.\n",
      "INFO 10-27 06:00:13 shm_broadcast.py:235] vLLM message queue communication handle: Handle(connect_ip='127.0.0.1', local_reader_ranks=[1, 2, 3], buffer=<vllm.distributed.device_communicators.shm_broadcast.ShmRingBuffer object at 0x7e97fe294e50>, local_subscribe_port=45203, remote_subscribe_port=None)\n",
      "INFO 10-27 06:00:13 model_runner.py:997] Starting to load model /kaggle/input/qwen2.5/transformers/72b-instruct-awq/1...\n",
      "\u001b[1;36m(VllmWorkerProcess pid=245)\u001b[0;0m \u001b[1;36m(VllmWorkerProcess pid=243)\u001b[0;0m \u001b[1;36m(VllmWorkerProcess pid=244)\u001b[0;0m INFO 10-27 06:00:13 model_runner.py:997] Starting to load model /kaggle/input/qwen2.5/transformers/72b-instruct-awq/1...\n",
      "INFO 10-27 06:00:13 model_runner.py:997] Starting to load model /kaggle/input/qwen2.5/transformers/72b-instruct-awq/1...\n",
      "INFO 10-27 06:00:13 model_runner.py:997] Starting to load model /kaggle/input/qwen2.5/transformers/72b-instruct-awq/1...\n"
     ]
    },
    {
     "data": {
      "application/vnd.jupyter.widget-view+json": {
       "model_id": "3ae3375ceefd42f9aeede66494e08172",
       "version_major": 2,
       "version_minor": 0
      },
      "text/plain": [
       "Loading safetensors checkpoint shards:   0% Completed | 0/11 [00:00<?, ?it/s]\n"
      ]
     },
     "metadata": {},
     "output_type": "display_data"
    },
    {
     "name": "stdout",
     "output_type": "stream",
     "text": [
      "\u001b[1;36m(VllmWorkerProcess pid=245)\u001b[0;0m INFO 10-27 06:04:50 model_runner.py:1008] Loading model weights took 9.7897 GB\n",
      "\u001b[1;36m(VllmWorkerProcess pid=243)\u001b[0;0m INFO 10-27 06:04:50 model_runner.py:1008] Loading model weights took 9.7897 GB\n",
      "INFO 10-27 06:04:50 model_runner.py:1008] Loading model weights took 9.7897 GB\n",
      "\u001b[1;36m(VllmWorkerProcess pid=244)\u001b[0;0m INFO 10-27 06:04:50 model_runner.py:1008] Loading model weights took 9.7897 GB\n",
      "INFO 10-27 06:04:58 distributed_gpu_executor.py:57] # GPU blocks: 9003, # CPU blocks: 3276\n",
      "INFO 10-27 06:05:01 model_runner.py:1311] Capturing the model for CUDA graphs. This may lead to unexpected consequences if the model is not static. To run the model in eager mode, set 'enforce_eager=True' or use '--enforce-eager' in the CLI.\n",
      "INFO 10-27 06:05:01 model_runner.py:1315] CUDA graphs can take additional 1~3 GiB memory per GPU. If you are running out of memory, consider decreasing `gpu_memory_utilization` or enforcing eager mode. You can also reduce the `max_num_seqs` as needed to decrease memory usage.\n",
      "\u001b[1;36m(VllmWorkerProcess pid=245)\u001b[0;0m \u001b[1;36m(VllmWorkerProcess pid=244)\u001b[0;0m \u001b[1;36m(VllmWorkerProcess pid=243)\u001b[0;0m INFO 10-27 06:05:01 model_runner.py:1311] Capturing the model for CUDA graphs. This may lead to unexpected consequences if the model is not static. To run the model in eager mode, set 'enforce_eager=True' or use '--enforce-eager' in the CLI.\n",
      "INFO 10-27 06:05:01 model_runner.py:1311] Capturing the model for CUDA graphs. This may lead to unexpected consequences if the model is not static. To run the model in eager mode, set 'enforce_eager=True' or use '--enforce-eager' in the CLI.\n",
      "INFO 10-27 06:05:01 model_runner.py:1311] Capturing the model for CUDA graphs. This may lead to unexpected consequences if the model is not static. To run the model in eager mode, set 'enforce_eager=True' or use '--enforce-eager' in the CLI.\n",
      "\u001b[1;36m(VllmWorkerProcess pid=245)\u001b[0;0m \u001b[1;36m(VllmWorkerProcess pid=244)\u001b[0;0m \u001b[1;36m(VllmWorkerProcess pid=243)\u001b[0;0m INFO 10-27 06:05:01 model_runner.py:1315] CUDA graphs can take additional 1~3 GiB memory per GPU. If you are running out of memory, consider decreasing `gpu_memory_utilization` or enforcing eager mode. You can also reduce the `max_num_seqs` as needed to decrease memory usage.\n",
      "INFO 10-27 06:05:01 model_runner.py:1315] CUDA graphs can take additional 1~3 GiB memory per GPU. If you are running out of memory, consider decreasing `gpu_memory_utilization` or enforcing eager mode. You can also reduce the `max_num_seqs` as needed to decrease memory usage.\n",
      "INFO 10-27 06:05:01 model_runner.py:1315] CUDA graphs can take additional 1~3 GiB memory per GPU. If you are running out of memory, consider decreasing `gpu_memory_utilization` or enforcing eager mode. You can also reduce the `max_num_seqs` as needed to decrease memory usage.\n",
      "INFO 10-27 06:05:06 model_runner.py:1430] Graph capturing finished in 5 secs.\n",
      "\u001b[1;36m(VllmWorkerProcess pid=244)\u001b[0;0m \u001b[1;36m(VllmWorkerProcess pid=243)\u001b[0;0m INFO 10-27 06:05:06 model_runner.py:1430] Graph capturing finished in 5 secs.\n",
      "\u001b[1;36m(VllmWorkerProcess pid=245)\u001b[0;0m INFO 10-27 06:05:06 model_runner.py:1430] Graph capturing finished in 5 secs.\n",
      "INFO 10-27 06:05:06 model_runner.py:1430] Graph capturing finished in 5 secs.\n"
     ]
    }
   ],
   "source": [
    "if llm_to_use == llm_choice.qwen_25_72b:\n",
    "    \n",
    "    from vllm import LLM, SamplingParams\n",
    "    \n",
    "    warnings.simplefilter('ignore')\n",
    "\n",
    "    os.environ[\"CUDA_VISIBLE_DEVICES\"]   = \"0,1,2,3\"\n",
    "    os.environ[\"TOKENIZERS_PARALLELISM\"] = \"false\"\n",
    "\n",
    "    def clean_memory(deep=False):\n",
    "        gc.collect()\n",
    "        if deep:\n",
    "            ctypes.CDLL(\"libc.so.6\").malloc_trim(0)\n",
    "        torch.cuda.empty_cache()\n",
    "\n",
    "\n",
    "    llm_model_pth = '/kaggle/input/qwen2.5/transformers/72b-instruct-awq/1'\n",
    "\n",
    "    llm = LLM(\n",
    "        llm_model_pth,\n",
    "        dtype=\"half\",                # The data type for the model weights and activations\n",
    "        max_num_seqs=8,              # Maximum number of sequences per iteration. Default is 256\n",
    "        max_model_len=4096,          # Model context length\n",
    "        trust_remote_code=True,      # Trust remote code (e.g., from HuggingFace) when downloading the model and tokenizer\n",
    "        tensor_parallel_size=4,      # The number of GPUs to use for distributed execution with tensor parallelism\n",
    "        gpu_memory_utilization=0.97, # The ratio (between 0 and 1) of GPU memory to reserve for the model\n",
    "    )\n",
    "\n",
    "\n",
    "    sampling_params = SamplingParams(\n",
    "        temperature=0.3,              # randomness of the sampling\n",
    "        seed=1,                       # Seed for reprodicibility\n",
    "        skip_special_tokens=True,     # Whether to skip special tokens in the output.\n",
    "        max_tokens=max_tokens\n",
    "    )\n",
    "\n",
    "    #used to return response for all messages\n",
    "\n",
    "    def get_response_for_messages(messages):\n",
    "        response = llm.chat(messages, sampling_params, use_tqdm=False)\n",
    "        return(response[0].outputs[0].text)"
   ]
  },
  {
   "cell_type": "markdown",
   "id": "10914741",
   "metadata": {
    "papermill": {
     "duration": 0.009674,
     "end_time": "2024-10-27T06:05:06.368849",
     "exception": false,
     "start_time": "2024-10-27T06:05:06.359175",
     "status": "completed"
    },
    "tags": []
   },
   "source": [
    "# Test out the LLM..."
   ]
  },
  {
   "cell_type": "code",
   "execution_count": 6,
   "id": "7a9171c9",
   "metadata": {
    "execution": {
     "iopub.execute_input": "2024-10-27T06:05:06.389228Z",
     "iopub.status.busy": "2024-10-27T06:05:06.388406Z",
     "iopub.status.idle": "2024-10-27T06:05:20.331121Z",
     "shell.execute_reply": "2024-10-27T06:05:20.330395Z"
    },
    "papermill": {
     "duration": 13.955016,
     "end_time": "2024-10-27T06:05:20.332905",
     "exception": false,
     "start_time": "2024-10-27T06:05:06.377889",
     "status": "completed"
    },
    "tags": []
   },
   "outputs": [
    {
     "data": {
      "text/plain": [
       "\"I have a robust set of capabilities when it comes to mathematics. I can handle a wide range of tasks, from basic arithmetic to more complex problems involving algebra, calculus, statistics, and even some aspects of advanced mathematics. Here are a few examples of what I can do:\\n\\n1. **Basic Arithmetic**: I can perform addition, subtraction, multiplication, and division quickly and accurately.\\n2. **Algebra**: I can solve linear equations, quadratic equations, and systems of equations. I can also simplify expressions and factor polynomials.\\n3. **Calculus**: I can compute derivatives, integrals, and limits. I can also help with differential equations and series expansions.\\n4. **Statistics**: I can calculate mean, median, mode, standard deviation, and other statistical measures. I can also help with probability distributions, hypothesis testing, and regression analysis.\\n5. **Geometry**: I can solve problems involving shapes, angles, and spatial relationships. I can also help with trigonometry.\\n6. **Number Theory**: I can work with prime numbers, factorization, and modular arithmetic.\\n7. **Discrete Mathematics**: I can handle problems involving sets, logic, and combinatorics.\\n\\nIf you have a specific math problem or concept you'd like to explore, feel free to ask, and I'll do my best to assist you!\""
      ]
     },
     "execution_count": 6,
     "metadata": {},
     "output_type": "execute_result"
    }
   ],
   "source": [
    "messages = [\n",
    "    {\"role\": \"user\", \"content\": \"Tell me about your math skills.\"},\n",
    "]\n",
    "\n",
    "get_response_for_messages(messages)"
   ]
  },
  {
   "cell_type": "markdown",
   "id": "b2c538de",
   "metadata": {
    "papermill": {
     "duration": 0.009041,
     "end_time": "2024-10-27T06:05:20.351299",
     "exception": false,
     "start_time": "2024-10-27T06:05:20.342258",
     "status": "completed"
    },
    "tags": []
   },
   "source": [
    "# Do inference\n",
    "* Add our examples + explanation to the prompt\n",
    "* Plead with the LLM to answer only as a number\n",
    "* Convert to int, modulo 1000"
   ]
  },
  {
   "cell_type": "code",
   "execution_count": 7,
   "id": "0567909d",
   "metadata": {
    "execution": {
     "iopub.execute_input": "2024-10-27T06:05:20.371111Z",
     "iopub.status.busy": "2024-10-27T06:05:20.370068Z",
     "iopub.status.idle": "2024-10-27T06:05:31.325406Z",
     "shell.execute_reply": "2024-10-27T06:05:31.324554Z"
    },
    "papermill": {
     "duration": 10.96701,
     "end_time": "2024-10-27T06:05:31.327166",
     "exception": false,
     "start_time": "2024-10-27T06:05:20.360156",
     "status": "completed"
    },
    "tags": []
   },
   "outputs": [
    {
     "name": "stdout",
     "output_type": "stream",
     "text": [
      "Prompt:\n",
      "{'role': 'user', 'content': 'Three airline companies operate flights from Dodola island. Each company has a different schedule of departures. The first company departs every 100 days, the second every 120 days and the third every 150 days. What is the greatest positive integer $d$ for which it is true that there will be $d$ consecutive days without a flight from Dodola island, regardless of the departure times of the various airlines?. Show your work - use at least 100 words - but less than 500 words. You MUST answer in the format of ANSWER: NUMBER.  You MUST conclude each response with ANSWER: NUMBER'}\n",
      "{'role': 'agent', 'content': 'The airlines are called A100, A120 and A150, labelled by the frequency of their departures. We first prove that there is a period of 99 days after an A100 departure during which no A150 plane takes off.\\n\\nConsider a period of 301 days which starts with an A150 departure on Day 0, followed by a departure on Day 150 and on Day 300. Let the first A100 departure in this period be on Day x.\\n\\nThere are two possibilities: (i) 0 ≤ x ≤ 50 or (ii) 51 ≤ x ≤ 99. In case (i), there is a quiet period of 99 days after the first A100 departure. In case (ii), the second A100 departure will be on Day 100 + x where 151 ≤ 100 + x ≤ 199 so there will be a period of 99 consecutive days after the second A100 departure with no A150 departure.\\n\\nWe will now prove that there are 79 consecutive days on which no departure of any airline happens, including the A120 planes. We restart time and define Day 0 to be when an A100 flight departs and there is no A150 flight before Day 100. This situation will repeat later because 300 = 3 × 100 = 2 × 150. The fourth A100 flight will take off on Day 300 and there will be no subsequent departure of an A150 plane before Day 400.\\n\\nSuppose the first departure of an A120 plane is on Day y. If y ≤ 20 or y ≥ 80, we have found the 79 consecutive days by looking after or before this A120 departure.\\n\\nIf 20 ≤ y ≤ 60, then there will be an A120 departure on day 240 + y where 260 ≤ 240 + y ≤ 300 so there will be no A120 departure strictly between Day 300 and Day 380 and so we will find the required 79 consecutive quiet days between those dates.\\n\\nFinally, if 61 ≤ y ≤ 80, there will be an A120 departure on Day y+240 where 301 ≤ y+240 ≤ 320 and there will be no subsequent departures before Day 400 and again we find the required 79 consecutive quiet days.\\n\\nWe now show that this bound can be attained. Suppose that an A100 departs on Day 0, an A120 departs on Day 80 and an A150 departs on Day 120. The departure days are then: 0, 80, 100, 120, 200&200, 270, 300, 320, 400, 420, 440, 500, 560, 570 modulo 600 (i.e. it repeats every 600 days).\\n\\nThe longest run of consecutive days without flights is 79 days (and this is obtained three times in this 600 day cycle). ANSWER: 79'}\n",
      "{'role': 'user', 'content': 'Let $ABC$ be a triangle with $BC=108$, $CA=126$, and $AB=39$. Point $X$ lies on segment $AC$ such that $BX$ bisects $\\\\angle CBA$. Let $\\\\omega$ be the circumcircle of triangle $ABX$. Let $Y$ be a point on $\\\\omega$ different from $X$ such that $CX=CY$. Line $XY$ meets $BC$ at $E$. The length of the segment $BE$ can be written as $\\\\frac{m}{n}$, where $m$ and $n$ are coprime positive integers. Find $m+n$.. Show your work - use at least 100 words - but less than 500 words. You MUST answer in the format of ANSWER: NUMBER.  You MUST conclude each response with ANSWER: NUMBER'}\n",
      "{'role': 'agent', 'content': 'We have the key claim: ω is tangent to BC.\\n\\nProof of Claim: The angle bisector theorem gives CX/CA = CB/(CB+BA) which rearranges to CX = (AC × BC)/(AB + BC) = (126 × 108)/147 = (6 × 108)/7 = 648/7.\\n\\nNow calculate: CB^2 = 108^2 = 648/7 × 126 = CX × CA and we establish the required tangency by the converse of power of point (the tangent-secant theorem) applied to C and ω.\\n\\nHaving established this tangency, we now perform a short calculation.\\n\\nLet Γ denote the circle with centre C and radius CX which passes through Y. The point E is on the radical axis XY of ω and Γ. It follows that E has equal powers with respect to both circles ω and Γ.\\n\\nLet x = BE so EC = 108 - x. The power of E with respect to ω is x^2 (because of the tangency at B) and the power of E with respect to Γ is EC^2 - XC^2 because C is the centre of Γ and XC is its radius.\\n\\nWe have x^2 = (108 - x)^2 - (648^2)/(7^2).\\n\\nThe quadratic terms cancel so 216x = 108^2 - 648^2/49 = (49×108^2-648^2)/49 and this gives the solution x = 702/49.\\n\\nNow, 702 and 49 are coprime so m + n = 751 is the required answer. ANSWER: 751'}\n",
      "{'role': 'user', 'content': 'What is ((1111*4)/ 2) + 1 + 99. Show your work - use at least 100 words - but less than 500 words. You MUST answer in the format of ANSWER: NUMBER.  You MUST conclude each response with ANSWER: NUMBER'}\n",
      "Response:\n",
      " To solve the expression \\(((1111 \\times 4) / 2) + 1 + 99\\), we will break it down step by step.\n",
      "\n",
      "1. **Multiplication**: First, we need to multiply 1111 by 4.\n",
      "   \\[\n",
      "   1111 \\times 4 = 4444\n",
      "   \\]\n",
      "\n",
      "2. **Division**: Next, we divide the result by 2.\n",
      "   \\[\n",
      "   4444 / 2 = 2222\n",
      "   \\]\n",
      "\n",
      "3. **Addition**: Now, we add 1 to the result.\n",
      "   \\[\n",
      "   2222 + 1 = 2223\n",
      "   \\]\n",
      "\n",
      "4. **Final Addition**: Finally, we add 99 to the result.\n",
      "   \\[\n",
      "   2223 + 99 = 2322\n",
      "   \\]\n",
      "\n",
      "Thus, the final answer is:\n",
      "ANSWER: 2322\n",
      "Final answer (mod 1000): 322\n"
     ]
    }
   ],
   "source": [
    "question_suffix = \". Show your work - use at least 100 words - but less than 500 words. You MUST answer in the format of ANSWER: NUMBER.  You MUST conclude each response with ANSWER: NUMBER\"\n",
    "\n",
    "def predict_for_question(question, verbose=False):\n",
    "\n",
    "    messages = []\n",
    "    \n",
    "    #include examples\n",
    "    for index in range(len(examples_df)):\n",
    "        messages.append(        \n",
    "            {\n",
    "            \"role\": \"user\", \n",
    "            \"content\": examples_df.iloc[index].problem + question_suffix\n",
    "            }\n",
    "        )\n",
    "        messages.append(        \n",
    "            {\n",
    "            \"role\": \"agent\", \n",
    "            \"content\": f\"{examples_df.iloc[index].solution} ANSWER: {examples_df.iloc[index].answer}\"\n",
    "            }\n",
    "        )\n",
    "\n",
    "    messages.append(\n",
    "        {\n",
    "        \"role\": \"user\", \n",
    "        \"content\": question + question_suffix\n",
    "        }\n",
    "    )\n",
    "    \n",
    "    answer = get_response_for_messages(messages)\n",
    "    \n",
    "    if verbose:\n",
    "        print(\"Prompt:\")\n",
    "        for message in messages:\n",
    "            print(message)\n",
    "        print(\"Response:\\n\", answer)\n",
    "        \n",
    "    #find answer / strip any trailing period\n",
    "    answer = answer.split(\"ANSWER: \")[-1].rstrip(\".\")\n",
    "    \n",
    "    # Try to convert the response to an integer and modulo 1000\n",
    "    try:\n",
    "        answer = int(answer) % 1000\n",
    "        return answer\n",
    "    # if the LLM responds with something we can't convert\n",
    "    except ValueError:\n",
    "        # If it fails (e.g., answer isn't a valid number), print error and return 0\n",
    "        print(f\"Error: The answer '{answer}' is not a valid number.\")\n",
    "        return 0\n",
    "    \n",
    "# Simple demo...\n",
    "answer = predict_for_question(\"What is ((1111*4)/ 2) + 1 + 99\", verbose=True)\n",
    "print(\"Final answer (mod 1000):\", answer)"
   ]
  },
  {
   "cell_type": "markdown",
   "id": "dd10cc09",
   "metadata": {
    "papermill": {
     "duration": 0.009139,
     "end_time": "2024-10-27T06:05:31.345736",
     "exception": false,
     "start_time": "2024-10-27T06:05:31.336597",
     "status": "completed"
    },
    "tags": []
   },
   "source": [
    "# Server Setup"
   ]
  },
  {
   "cell_type": "code",
   "execution_count": 8,
   "id": "821d88a6",
   "metadata": {
    "execution": {
     "iopub.execute_input": "2024-10-27T06:05:31.365311Z",
     "iopub.status.busy": "2024-10-27T06:05:31.364739Z",
     "iopub.status.idle": "2024-10-27T06:05:31.370653Z",
     "shell.execute_reply": "2024-10-27T06:05:31.369976Z"
    },
    "papermill": {
     "duration": 0.017481,
     "end_time": "2024-10-27T06:05:31.372297",
     "exception": false,
     "start_time": "2024-10-27T06:05:31.354816",
     "status": "completed"
    },
    "tags": []
   },
   "outputs": [],
   "source": [
    "def predict(id_: pl.DataFrame, question: pl.DataFrame, answer: pl.DataFrame | None = None) -> pl.DataFrame | pd.DataFrame:\n",
    "    \"\"\"Make a prediction.\"\"\"\n",
    "    # Unpack values\n",
    "    id_ = id_.item(0)\n",
    "    question = question.item(0)\n",
    "\n",
    "    # Make a prediction\n",
    "    prediction = predict_for_question(question)\n",
    "\n",
    "    # track / print accuracy if not in competition / using train\n",
    "    if not os.getenv('KAGGLE_IS_COMPETITION_RERUN') :\n",
    "        global questions_answered\n",
    "        global verified_correct\n",
    "        questions_answered += 1\n",
    "        \n",
    "        correct_answer = answer.item(0) if answer is not None else None\n",
    "        if (prediction==correct_answer): verified_correct += 1\n",
    "        print(f\"Prediction: {prediction}, Actual: {correct_answer}, Correct: {prediction==correct_answer}\")\n",
    "\n",
    "    return pl.DataFrame({'id': id_, 'prediction': prediction})"
   ]
  },
  {
   "cell_type": "markdown",
   "id": "cbec564f",
   "metadata": {
    "papermill": {
     "duration": 0.008833,
     "end_time": "2024-10-27T06:05:31.390074",
     "exception": false,
     "start_time": "2024-10-27T06:05:31.381241",
     "status": "completed"
    },
    "tags": []
   },
   "source": [
    "# Start Inference\n",
    "* Run on validate if not submitting / print score\n",
    "* Various configurations have been correct for questions with answers of 180, 201 and 143 (but not all at once)"
   ]
  },
  {
   "cell_type": "code",
   "execution_count": 9,
   "id": "fc92b848",
   "metadata": {
    "execution": {
     "iopub.execute_input": "2024-10-27T06:05:31.409545Z",
     "iopub.status.busy": "2024-10-27T06:05:31.408928Z",
     "iopub.status.idle": "2024-10-27T06:12:32.569157Z",
     "shell.execute_reply": "2024-10-27T06:12:32.568237Z"
    },
    "papermill": {
     "duration": 421.181351,
     "end_time": "2024-10-27T06:12:32.580335",
     "exception": false,
     "start_time": "2024-10-27T06:05:31.398984",
     "status": "completed"
    },
    "tags": []
   },
   "outputs": [
    {
     "name": "stdout",
     "output_type": "stream",
     "text": [
      "Prediction: 999, Actual: 143, Correct: False\n",
      "Prediction: 2, Actual: 810, Correct: False\n",
      "Prediction: 135, Actual: 250, Correct: False\n",
      "Prediction: 201, Actual: 201, Correct: True\n",
      "Prediction: 1, Actual: 3, Correct: False\n",
      "Prediction: 180, Actual: 180, Correct: True\n",
      "Prediction: 938, Actual: 902, Correct: False\n",
      "Prediction: 10, Actual: 891, Correct: False\n",
      "Portion correct:  0.25\n"
     ]
    }
   ],
   "source": [
    "questions_answered = 0\n",
    "verified_correct = 0\n",
    "\n",
    "inference_server = kaggle_evaluation.aimo_2_inference_server.AIMO2InferenceServer(predict)\n",
    "\n",
    "if os.getenv('KAGGLE_IS_COMPETITION_RERUN'):\n",
    "    inference_server.serve()\n",
    "else:\n",
    "    inference_server.run_local_gateway(\n",
    "        (\n",
    "            '/kaggle/working/validate.csv',\n",
    "\n",
    "            # if we want to run on all problems\n",
    "            #'/kaggle/input/ai-mathematical-olympiad-progress-prize-2/reference.csv',\n",
    "        )\n",
    "    )\n",
    "\n",
    "if not os.getenv('KAGGLE_IS_COMPETITION_RERUN') :\n",
    "    print(\"Portion correct: \", verified_correct / questions_answered)"
   ]
  }
 ],
 "metadata": {
  "kaggle": {
   "accelerator": "nvidiaL4",
   "dataSources": [
    {
     "databundleVersionId": 9869096,
     "sourceId": 86023,
     "sourceType": "competition"
    },
    {
     "datasetId": 4581967,
     "sourceId": 9728152,
     "sourceType": "datasetVersion"
    },
    {
     "datasetId": 5955227,
     "sourceId": 9731307,
     "sourceType": "datasetVersion"
    },
    {
     "sourceId": 196750896,
     "sourceType": "kernelVersion"
    },
    {
     "modelId": 127417,
     "modelInstanceId": 118183,
     "sourceId": 139552,
     "sourceType": "modelInstanceVersion"
    }
   ],
   "dockerImageVersionId": 30787,
   "isGpuEnabled": true,
   "isInternetEnabled": false,
   "language": "python",
   "sourceType": "notebook"
  },
  "kernelspec": {
   "display_name": "Python 3",
   "language": "python",
   "name": "python3"
  },
  "language_info": {
   "codemirror_mode": {
    "name": "ipython",
    "version": 3
   },
   "file_extension": ".py",
   "mimetype": "text/x-python",
   "name": "python",
   "nbconvert_exporter": "python",
   "pygments_lexer": "ipython3",
   "version": "3.10.14"
  },
  "papermill": {
   "default_parameters": {},
   "duration": 803.741372,
   "end_time": "2024-10-27T06:12:38.713054",
   "environment_variables": {},
   "exception": null,
   "input_path": "__notebook__.ipynb",
   "output_path": "__notebook__.ipynb",
   "parameters": {},
   "start_time": "2024-10-27T05:59:14.971682",
   "version": "2.6.0"
  },
  "widgets": {
   "application/vnd.jupyter.widget-state+json": {
    "state": {
     "3ae3375ceefd42f9aeede66494e08172": {
      "model_module": "@jupyter-widgets/controls",
      "model_module_version": "1.5.0",
      "model_name": "HBoxModel",
      "state": {
       "_dom_classes": [],
       "_model_module": "@jupyter-widgets/controls",
       "_model_module_version": "1.5.0",
       "_model_name": "HBoxModel",
       "_view_count": null,
       "_view_module": "@jupyter-widgets/controls",
       "_view_module_version": "1.5.0",
       "_view_name": "HBoxView",
       "box_style": "",
       "children": [
        "IPY_MODEL_712906b89a034aa981c78ec917695c16",
        "IPY_MODEL_6e02449d72574cb59a7408135ddf0606",
        "IPY_MODEL_aabe4ff8b2734c9c86a33deb7a3d0a52"
       ],
       "layout": "IPY_MODEL_d865f8a6c163451da7719a6d6e720f96"
      }
     },
     "63273838b2cf407a9d8a4b3d3c0a6096": {
      "model_module": "@jupyter-widgets/base",
      "model_module_version": "1.2.0",
      "model_name": "LayoutModel",
      "state": {
       "_model_module": "@jupyter-widgets/base",
       "_model_module_version": "1.2.0",
       "_model_name": "LayoutModel",
       "_view_count": null,
       "_view_module": "@jupyter-widgets/base",
       "_view_module_version": "1.2.0",
       "_view_name": "LayoutView",
       "align_content": null,
       "align_items": null,
       "align_self": null,
       "border": null,
       "bottom": null,
       "display": null,
       "flex": null,
       "flex_flow": null,
       "grid_area": null,
       "grid_auto_columns": null,
       "grid_auto_flow": null,
       "grid_auto_rows": null,
       "grid_column": null,
       "grid_gap": null,
       "grid_row": null,
       "grid_template_areas": null,
       "grid_template_columns": null,
       "grid_template_rows": null,
       "height": null,
       "justify_content": null,
       "justify_items": null,
       "left": null,
       "margin": null,
       "max_height": null,
       "max_width": null,
       "min_height": null,
       "min_width": null,
       "object_fit": null,
       "object_position": null,
       "order": null,
       "overflow": null,
       "overflow_x": null,
       "overflow_y": null,
       "padding": null,
       "right": null,
       "top": null,
       "visibility": null,
       "width": null
      }
     },
     "64efbe72d2c24a98b72db29e311e7206": {
      "model_module": "@jupyter-widgets/controls",
      "model_module_version": "1.5.0",
      "model_name": "DescriptionStyleModel",
      "state": {
       "_model_module": "@jupyter-widgets/controls",
       "_model_module_version": "1.5.0",
       "_model_name": "DescriptionStyleModel",
       "_view_count": null,
       "_view_module": "@jupyter-widgets/base",
       "_view_module_version": "1.2.0",
       "_view_name": "StyleView",
       "description_width": ""
      }
     },
     "6e02449d72574cb59a7408135ddf0606": {
      "model_module": "@jupyter-widgets/controls",
      "model_module_version": "1.5.0",
      "model_name": "FloatProgressModel",
      "state": {
       "_dom_classes": [],
       "_model_module": "@jupyter-widgets/controls",
       "_model_module_version": "1.5.0",
       "_model_name": "FloatProgressModel",
       "_view_count": null,
       "_view_module": "@jupyter-widgets/controls",
       "_view_module_version": "1.5.0",
       "_view_name": "ProgressView",
       "bar_style": "success",
       "description": "",
       "description_tooltip": null,
       "layout": "IPY_MODEL_805d7686fa99450fa5f28d53a2e50938",
       "max": 11.0,
       "min": 0.0,
       "orientation": "horizontal",
       "style": "IPY_MODEL_c76df798b0e0495abc6131f26e897eca",
       "value": 11.0
      }
     },
     "712906b89a034aa981c78ec917695c16": {
      "model_module": "@jupyter-widgets/controls",
      "model_module_version": "1.5.0",
      "model_name": "HTMLModel",
      "state": {
       "_dom_classes": [],
       "_model_module": "@jupyter-widgets/controls",
       "_model_module_version": "1.5.0",
       "_model_name": "HTMLModel",
       "_view_count": null,
       "_view_module": "@jupyter-widgets/controls",
       "_view_module_version": "1.5.0",
       "_view_name": "HTMLView",
       "description": "",
       "description_tooltip": null,
       "layout": "IPY_MODEL_af9c9877f8c347788ca34cdd8170fc94",
       "placeholder": "​",
       "style": "IPY_MODEL_c9c855af5c4941d6bed6542ce711a012",
       "value": ""
      }
     },
     "805d7686fa99450fa5f28d53a2e50938": {
      "model_module": "@jupyter-widgets/base",
      "model_module_version": "1.2.0",
      "model_name": "LayoutModel",
      "state": {
       "_model_module": "@jupyter-widgets/base",
       "_model_module_version": "1.2.0",
       "_model_name": "LayoutModel",
       "_view_count": null,
       "_view_module": "@jupyter-widgets/base",
       "_view_module_version": "1.2.0",
       "_view_name": "LayoutView",
       "align_content": null,
       "align_items": null,
       "align_self": null,
       "border": null,
       "bottom": null,
       "display": null,
       "flex": null,
       "flex_flow": null,
       "grid_area": null,
       "grid_auto_columns": null,
       "grid_auto_flow": null,
       "grid_auto_rows": null,
       "grid_column": null,
       "grid_gap": null,
       "grid_row": null,
       "grid_template_areas": null,
       "grid_template_columns": null,
       "grid_template_rows": null,
       "height": null,
       "justify_content": null,
       "justify_items": null,
       "left": null,
       "margin": null,
       "max_height": null,
       "max_width": null,
       "min_height": null,
       "min_width": null,
       "object_fit": null,
       "object_position": null,
       "order": null,
       "overflow": null,
       "overflow_x": null,
       "overflow_y": null,
       "padding": null,
       "right": null,
       "top": null,
       "visibility": null,
       "width": null
      }
     },
     "aabe4ff8b2734c9c86a33deb7a3d0a52": {
      "model_module": "@jupyter-widgets/controls",
      "model_module_version": "1.5.0",
      "model_name": "HTMLModel",
      "state": {
       "_dom_classes": [],
       "_model_module": "@jupyter-widgets/controls",
       "_model_module_version": "1.5.0",
       "_model_name": "HTMLModel",
       "_view_count": null,
       "_view_module": "@jupyter-widgets/controls",
       "_view_module_version": "1.5.0",
       "_view_name": "HTMLView",
       "description": "",
       "description_tooltip": null,
       "layout": "IPY_MODEL_63273838b2cf407a9d8a4b3d3c0a6096",
       "placeholder": "​",
       "style": "IPY_MODEL_64efbe72d2c24a98b72db29e311e7206",
       "value": "Loading safetensors checkpoint shards: 100% Completed | 11/11 [04:33&lt;00:00, 26.87s/it]\n"
      }
     },
     "af9c9877f8c347788ca34cdd8170fc94": {
      "model_module": "@jupyter-widgets/base",
      "model_module_version": "1.2.0",
      "model_name": "LayoutModel",
      "state": {
       "_model_module": "@jupyter-widgets/base",
       "_model_module_version": "1.2.0",
       "_model_name": "LayoutModel",
       "_view_count": null,
       "_view_module": "@jupyter-widgets/base",
       "_view_module_version": "1.2.0",
       "_view_name": "LayoutView",
       "align_content": null,
       "align_items": null,
       "align_self": null,
       "border": null,
       "bottom": null,
       "display": null,
       "flex": null,
       "flex_flow": null,
       "grid_area": null,
       "grid_auto_columns": null,
       "grid_auto_flow": null,
       "grid_auto_rows": null,
       "grid_column": null,
       "grid_gap": null,
       "grid_row": null,
       "grid_template_areas": null,
       "grid_template_columns": null,
       "grid_template_rows": null,
       "height": null,
       "justify_content": null,
       "justify_items": null,
       "left": null,
       "margin": null,
       "max_height": null,
       "max_width": null,
       "min_height": null,
       "min_width": null,
       "object_fit": null,
       "object_position": null,
       "order": null,
       "overflow": null,
       "overflow_x": null,
       "overflow_y": null,
       "padding": null,
       "right": null,
       "top": null,
       "visibility": null,
       "width": null
      }
     },
     "c76df798b0e0495abc6131f26e897eca": {
      "model_module": "@jupyter-widgets/controls",
      "model_module_version": "1.5.0",
      "model_name": "ProgressStyleModel",
      "state": {
       "_model_module": "@jupyter-widgets/controls",
       "_model_module_version": "1.5.0",
       "_model_name": "ProgressStyleModel",
       "_view_count": null,
       "_view_module": "@jupyter-widgets/base",
       "_view_module_version": "1.2.0",
       "_view_name": "StyleView",
       "bar_color": null,
       "description_width": ""
      }
     },
     "c9c855af5c4941d6bed6542ce711a012": {
      "model_module": "@jupyter-widgets/controls",
      "model_module_version": "1.5.0",
      "model_name": "DescriptionStyleModel",
      "state": {
       "_model_module": "@jupyter-widgets/controls",
       "_model_module_version": "1.5.0",
       "_model_name": "DescriptionStyleModel",
       "_view_count": null,
       "_view_module": "@jupyter-widgets/base",
       "_view_module_version": "1.2.0",
       "_view_name": "StyleView",
       "description_width": ""
      }
     },
     "d865f8a6c163451da7719a6d6e720f96": {
      "model_module": "@jupyter-widgets/base",
      "model_module_version": "1.2.0",
      "model_name": "LayoutModel",
      "state": {
       "_model_module": "@jupyter-widgets/base",
       "_model_module_version": "1.2.0",
       "_model_name": "LayoutModel",
       "_view_count": null,
       "_view_module": "@jupyter-widgets/base",
       "_view_module_version": "1.2.0",
       "_view_name": "LayoutView",
       "align_content": null,
       "align_items": null,
       "align_self": null,
       "border": null,
       "bottom": null,
       "display": null,
       "flex": null,
       "flex_flow": null,
       "grid_area": null,
       "grid_auto_columns": null,
       "grid_auto_flow": null,
       "grid_auto_rows": null,
       "grid_column": null,
       "grid_gap": null,
       "grid_row": null,
       "grid_template_areas": null,
       "grid_template_columns": null,
       "grid_template_rows": null,
       "height": null,
       "justify_content": null,
       "justify_items": null,
       "left": null,
       "margin": null,
       "max_height": null,
       "max_width": null,
       "min_height": null,
       "min_width": null,
       "object_fit": null,
       "object_position": null,
       "order": null,
       "overflow": null,
       "overflow_x": null,
       "overflow_y": null,
       "padding": null,
       "right": null,
       "top": null,
       "visibility": null,
       "width": null
      }
     }
    },
    "version_major": 2,
    "version_minor": 0
   }
  }
 },
 "nbformat": 4,
 "nbformat_minor": 5
}
