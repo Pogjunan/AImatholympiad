{
 "cells": [
  {
   "cell_type": "code",
   "execution_count": 1,
   "id": "c393619b",
   "metadata": {
    "execution": {
     "iopub.execute_input": "2024-10-23T14:03:04.994528Z",
     "iopub.status.busy": "2024-10-23T14:03:04.994004Z",
     "iopub.status.idle": "2024-10-23T14:03:06.430096Z",
     "shell.execute_reply": "2024-10-23T14:03:06.429003Z"
    },
    "papermill": {
     "duration": 1.443266,
     "end_time": "2024-10-23T14:03:06.432708",
     "exception": false,
     "start_time": "2024-10-23T14:03:04.989442",
     "status": "completed"
    },
    "tags": []
   },
   "outputs": [],
   "source": [
    "import os\n",
    "\n",
    "import pandas as pd\n",
    "import polars as pl\n",
    "\n",
    "import kaggle_evaluation.aimo_2_inference_server"
   ]
  },
  {
   "cell_type": "markdown",
   "id": "973054bf",
   "metadata": {
    "papermill": {
     "duration": 0.002004,
     "end_time": "2024-10-23T14:03:06.437417",
     "exception": false,
     "start_time": "2024-10-23T14:03:06.435413",
     "status": "completed"
    },
    "tags": []
   },
   "source": [
    "The evaluation API requires that you set up a server which will respond to inference requests. We have already defined the server; you just need write the `predict` function. When we evaluate your submission on the hidden test set the client defined in `aimo_2_gateway` will run in a different container with direct access to the hidden test set and hand off each question one at a time, in random order.\n",
    "\n",
    "Your code will always have access to the published copies of the files."
   ]
  },
  {
   "cell_type": "code",
   "execution_count": 2,
   "id": "9f010cbd",
   "metadata": {
    "execution": {
     "iopub.execute_input": "2024-10-23T14:03:06.444829Z",
     "iopub.status.busy": "2024-10-23T14:03:06.443707Z",
     "iopub.status.idle": "2024-10-23T14:03:06.451308Z",
     "shell.execute_reply": "2024-10-23T14:03:06.450158Z"
    },
    "papermill": {
     "duration": 0.013746,
     "end_time": "2024-10-23T14:03:06.453899",
     "exception": false,
     "start_time": "2024-10-23T14:03:06.440153",
     "status": "completed"
    },
    "tags": []
   },
   "outputs": [],
   "source": [
    "# Replace this function with your inference code.\n",
    "# The function should return a single integer between 0 and 999, inclusive.\n",
    "# Each prediction (except the very first) must be returned within 30 minutes of the question being provided.\n",
    "def predict(id_: pl.DataFrame, question: pl.DataFrame) -> pl.DataFrame | pd.DataFrame:\n",
    "    \"\"\"Make a prediction.\"\"\"\n",
    "    # Unpack values\n",
    "    id_ = id_.item(0)\n",
    "    question = question.item(0)\n",
    "    # Make a prediction\n",
    "    prediction = 0  # model.predict(question)\n",
    "    return pl.DataFrame({'id': id_, 'answer': 0})"
   ]
  },
  {
   "cell_type": "markdown",
   "id": "23fca688",
   "metadata": {
    "papermill": {
     "duration": 0.001994,
     "end_time": "2024-10-23T14:03:06.458387",
     "exception": false,
     "start_time": "2024-10-23T14:03:06.456393",
     "status": "completed"
    },
    "tags": []
   },
   "source": [
    "When your notebook is run on the hidden test set, `inference_server.serve()` must be called within 15 minutes of the notebook starting or the gateway will throw an error. If you need more than 15 minutes to load your model you can do so during the very first `predict` call, which does not have the usual 30 minute response deadline."
   ]
  },
  {
   "cell_type": "code",
   "execution_count": 3,
   "id": "3e62098e",
   "metadata": {
    "execution": {
     "iopub.execute_input": "2024-10-23T14:03:06.464621Z",
     "iopub.status.busy": "2024-10-23T14:03:06.464195Z",
     "iopub.status.idle": "2024-10-23T14:03:06.827016Z",
     "shell.execute_reply": "2024-10-23T14:03:06.825877Z"
    },
    "papermill": {
     "duration": 0.369247,
     "end_time": "2024-10-23T14:03:06.829868",
     "exception": false,
     "start_time": "2024-10-23T14:03:06.460621",
     "status": "completed"
    },
    "tags": []
   },
   "outputs": [],
   "source": [
    "inference_server = kaggle_evaluation.aimo_2_inference_server.AIMO2InferenceServer(predict)\n",
    "\n",
    "if os.getenv('KAGGLE_IS_COMPETITION_RERUN'):\n",
    "    inference_server.serve()\n",
    "else:\n",
    "    inference_server.run_local_gateway(\n",
    "        (\n",
    "            '/kaggle/input/ai-mathematical-olympiad-progress-prize-2/test.csv',\n",
    "        )\n",
    "    )"
   ]
  }
 ],
 "metadata": {
  "kaggle": {
   "accelerator": "none",
   "dataSources": [
    {
     "databundleVersionId": 9869096,
     "sourceId": 86023,
     "sourceType": "competition"
    }
   ],
   "dockerImageVersionId": 30786,
   "isGpuEnabled": false,
   "isInternetEnabled": false,
   "language": "python",
   "sourceType": "notebook"
  },
  "kernelspec": {
   "display_name": "Python 3",
   "language": "python",
   "name": "python3"
  },
  "language_info": {
   "codemirror_mode": {
    "name": "ipython",
    "version": 3
   },
   "file_extension": ".py",
   "mimetype": "text/x-python",
   "name": "python",
   "nbconvert_exporter": "python",
   "pygments_lexer": "ipython3",
   "version": "3.10.14"
  },
  "papermill": {
   "default_parameters": {},
   "duration": 5.126228,
   "end_time": "2024-10-23T14:03:07.353869",
   "environment_variables": {},
   "exception": null,
   "input_path": "__notebook__.ipynb",
   "output_path": "__notebook__.ipynb",
   "parameters": {},
   "start_time": "2024-10-23T14:03:02.227641",
   "version": "2.6.0"
  }
 },
 "nbformat": 4,
 "nbformat_minor": 5
}
